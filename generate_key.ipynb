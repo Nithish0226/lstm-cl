{
 "cells": [
  {
   "cell_type": "code",
   "execution_count": 32,
   "metadata": {},
   "outputs": [],
   "source": [
    "import pickle"
   ]
  },
  {
   "cell_type": "code",
   "execution_count": 44,
   "metadata": {},
   "outputs": [],
   "source": [
    "import streamlit_authenticator as stauth"
   ]
  },
  {
   "cell_type": "code",
   "execution_count": 45,
   "metadata": {},
   "outputs": [
    {
     "data": {
      "text/plain": [
       "['$2b$12$/3lqdDmT9.R3y9JCLCsCZeHYt8.J/S3wAYCei4TQE.f4iOi0IbYx2',\n",
       " '$2b$12$3z6FDLnoKtDDG/kL94e20eYNH1Re3pd/NLupdJc1GYDBeY.wVMKOC']"
      ]
     },
     "execution_count": 45,
     "metadata": {},
     "output_type": "execute_result"
    }
   ],
   "source": [
    "hashed_passwords = stauth.Hasher(['123', '123']).generate()\n",
    "hashed_passwords"
   ]
  },
  {
   "cell_type": "code",
   "execution_count": 42,
   "metadata": {},
   "outputs": [],
   "source": [
    "import yaml\n",
    "with open('./secure.yaml') as file:\n",
    "    config = yaml.safe_load(file)"
   ]
  },
  {
   "cell_type": "code",
   "execution_count": 43,
   "metadata": {},
   "outputs": [
    {
     "data": {
      "text/plain": [
       "{'usernames': {'jsmith': {'email': 'jsmith@gmail.com',\n",
       "   'name': 'John Smith',\n",
       "   'password': 123},\n",
       "  'rbriggs': {'email': 'rbriggs@gmail.com',\n",
       "   'name': 'Rebecca Briggs',\n",
       "   'password': 456}}}"
      ]
     },
     "execution_count": 43,
     "metadata": {},
     "output_type": "execute_result"
    }
   ],
   "source": [
    "config['credentials']"
   ]
  },
  {
   "cell_type": "code",
   "execution_count": 34,
   "metadata": {},
   "outputs": [],
   "source": [
    "names = [\"Sujatha\",\"Nithish\"]\n",
    "usernames =[\"sujatha\",\"nithish\"]\n",
    "password =[\"abc123\",\"abc123\"]\n"
   ]
  },
  {
   "cell_type": "code",
   "execution_count": 35,
   "metadata": {},
   "outputs": [
    {
     "data": {
      "text/plain": [
       "['$2b$12$UnVUxcdgrTsmgLtx66gN.eZ76NOUO52CLbLCzaUUl7wHXKTdjwPMu',\n",
       " '$2b$12$B0HpbGTkGf82/W7RpiNDYOJSroHGXOjx.b/cf2Z7nGATrW9LiXpsS']"
      ]
     },
     "execution_count": 35,
     "metadata": {},
     "output_type": "execute_result"
    }
   ],
   "source": [
    "hashed_password =stauth.Hasher(password).generate()\n",
    "hashed_password"
   ]
  },
  {
   "cell_type": "code",
   "execution_count": 36,
   "metadata": {},
   "outputs": [],
   "source": [
    "with open(\"./auth.pkl\",\"wb\") as file:\n",
    "    pickle.dump(hashed_password, file)"
   ]
  }
 ],
 "metadata": {
  "kernelspec": {
   "display_name": "Python 3.9.12 ('base')",
   "language": "python",
   "name": "python3"
  },
  "language_info": {
   "codemirror_mode": {
    "name": "ipython",
    "version": 3
   },
   "file_extension": ".py",
   "mimetype": "text/x-python",
   "name": "python",
   "nbconvert_exporter": "python",
   "pygments_lexer": "ipython3",
   "version": "3.9.12"
  },
  "orig_nbformat": 4,
  "vscode": {
   "interpreter": {
    "hash": "15ddfc4e2a95ec727ee4b12b7e4e288e140989ae65409f365973a02afcae94fc"
   }
  }
 },
 "nbformat": 4,
 "nbformat_minor": 2
}
