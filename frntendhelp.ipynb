{
 "cells": [
  {
   "cell_type": "code",
   "execution_count": 1,
   "metadata": {},
   "outputs": [],
   "source": [
    "from lstm import model_prediction"
   ]
  },
  {
   "cell_type": "code",
   "execution_count": 4,
   "metadata": {},
   "outputs": [
    {
     "name": "stdout",
     "output_type": "stream",
     "text": [
      "4/4 [==============================] - 0s 2ms/step\n"
     ]
    },
    {
     "data": {
      "text/plain": [
       "array([ 6.352505  ,  6.392284  ,  6.251677  ,  5.9932923 ,  5.5309796 ,\n",
       "        5.265139  ,  5.276735  ,  5.269606  ,  6.003056  ,  6.439585  ,\n",
       "        6.430035  ,  5.8674674 ,  4.544122  ,  4.086203  ,  3.8321784 ,\n",
       "        3.149361  ,  2.4304297 ,  1.6404755 ,  0.8910821 , -0.11446257,\n",
       "       -1.2004478 , -1.7930171 , -2.7216384 , -3.173537  , -3.4457881 ,\n",
       "       -3.6621215 , -3.7560318 , -3.9355514 , -4.052716  , -3.9338958 ,\n",
       "       -3.8115852 , -3.8632782 , -3.9706066 , -4.162129  , -4.1752896 ,\n",
       "       -4.336329  , -4.3837686 , -4.4983525 , -4.5604978 , -4.4142365 ,\n",
       "       -3.9224212 , -3.1847122 ,         nan,         nan,         nan,\n",
       "               nan,         nan,         nan,         nan,         nan,\n",
       "               nan,         nan,         nan,         nan,         nan,\n",
       "               nan, 27.918238  , 28.03722   , 27.357038  , 25.756762  ,\n",
       "       23.456247  , 20.31355   , 17.114258  , 13.174181  ,  9.35049   ,\n",
       "        6.5453305 ,  3.4694636 ,  1.2331307 ,  0.8427823 ,  1.5010331 ,\n",
       "        3.233083  ,  5.5026145 ,  7.009435  ,  7.74106   ,  7.782109  ,\n",
       "        7.4869905 ,  7.2373347 ,  7.921819  , 10.037362  , 11.866134  ,\n",
       "       13.33289   , 14.862814  , 16.188     , 18.486479  , 21.368233  ,\n",
       "       23.670835  , 25.5151    , 26.459705  , 26.91467   , 27.055365  ,\n",
       "       26.599808  , 25.133326  , 22.776356  , 20.590916  , 18.115849  ,\n",
       "       15.037139  , 11.9907465 ,  8.822156  ,  5.890713  ,  4.1544757 ],\n",
       "      dtype=float32)"
      ]
     },
     "execution_count": 4,
     "metadata": {},
     "output_type": "execute_result"
    }
   ],
   "source": [
    "model_prediction(\"Bengaluru\",100)"
   ]
  }
 ],
 "metadata": {
  "kernelspec": {
   "display_name": "Python 3.9.12 ('base')",
   "language": "python",
   "name": "python3"
  },
  "language_info": {
   "codemirror_mode": {
    "name": "ipython",
    "version": 3
   },
   "file_extension": ".py",
   "mimetype": "text/x-python",
   "name": "python",
   "nbconvert_exporter": "python",
   "pygments_lexer": "ipython3",
   "version": "3.9.12"
  },
  "orig_nbformat": 4,
  "vscode": {
   "interpreter": {
    "hash": "15ddfc4e2a95ec727ee4b12b7e4e288e140989ae65409f365973a02afcae94fc"
   }
  }
 },
 "nbformat": 4,
 "nbformat_minor": 2
}
